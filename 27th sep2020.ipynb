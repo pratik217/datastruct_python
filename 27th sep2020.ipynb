{
 "cells": [
  {
   "cell_type": "markdown",
   "metadata": {},
   "source": [
    "Git initialization\n"
   ]
  },
  {
   "cell_type": "code",
   "execution_count": 8,
   "metadata": {},
   "outputs": [
    {
     "name": "stderr",
     "output_type": "stream",
     "text": [
      "Cloning into 'reactpoc'...\n"
     ]
    }
   ],
   "source": [
    "!git clone https://github.com/pratik217/reactpoc\n"
   ]
  },
  {
   "cell_type": "code",
   "execution_count": 22,
   "metadata": {},
   "outputs": [
    {
     "name": "stdout",
     "output_type": "stream",
     "text": [
      "[master 2a56ab1] 27th_practise\n",
      " 1 file changed, 147 insertions(+)\n",
      " create mode 100644 27th sep2020.ipynb\n"
     ]
    }
   ],
   "source": [
    "!git commit -m \"27th_practise\""
   ]
  },
  {
   "cell_type": "markdown",
   "metadata": {},
   "source": [
    "# Linear Search"
   ]
  },
  {
   "cell_type": "code",
   "execution_count": null,
   "metadata": {},
   "outputs": [],
   "source": [
    "import ast\n",
    "\n",
    "\n",
    "data_list=ast.literal_eval(input())\n",
    "key=ast.literal_eval(input())\n",
    "\n",
    "#find the index of the key in data_list here\n",
    "if key not in data_list:\n",
    "        print(-1)\n",
    "for _data in data_list:\n",
    "#     print(_data)\n",
    "    \n",
    "        \n",
    "    if key == _data:\n",
    "        print(data_list.index(_data))\n",
    "        break\n",
    "        "
   ]
  },
  {
   "cell_type": "code",
   "execution_count": 43,
   "metadata": {},
   "outputs": [
    {
     "name": "stdout",
     "output_type": "stream",
     "text": [
      "[1, 2, 4, 2, 3, 2, 3, 3, 6, 7]\n",
      "3\n",
      "4\n"
     ]
    }
   ],
   "source": [
    "import ast\n",
    "\n",
    "\n",
    "data_list=ast.literal_eval(input())\n",
    "key=ast.literal_eval(input())\n",
    "\n",
    "#find the index of the key in data_list here\n",
    "if key not in data_list:\n",
    "        print(-1)\n",
    "for _in in range(0,len(data_list)):\n",
    "#     print(_data)\n",
    "    \n",
    "        \n",
    "    if key == data_list[_in]:\n",
    "        print(_in)\n",
    "        break"
   ]
  }
 ],
 "metadata": {
  "kernelspec": {
   "display_name": "Python 3",
   "language": "python",
   "name": "python3"
  },
  "language_info": {
   "codemirror_mode": {
    "name": "ipython",
    "version": 3
   },
   "file_extension": ".py",
   "mimetype": "text/x-python",
   "name": "python",
   "nbconvert_exporter": "python",
   "pygments_lexer": "ipython3",
   "version": "3.8.3"
  }
 },
 "nbformat": 4,
 "nbformat_minor": 4
}
