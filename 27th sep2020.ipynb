{
 "cells": [
  {
   "cell_type": "markdown",
   "metadata": {},
   "source": [
    "Git initialization\n"
   ]
  },
  {
   "cell_type": "code",
   "execution_count": 8,
   "metadata": {},
   "outputs": [
    {
     "name": "stderr",
     "output_type": "stream",
     "text": [
      "Cloning into 'reactpoc'...\n"
     ]
    }
   ],
   "source": [
    "!git clone https://github.com/pratik217/reactpoc\n"
   ]
  },
  {
   "cell_type": "code",
   "execution_count": 80,
   "metadata": {},
   "outputs": [
    {
     "name": "stderr",
     "output_type": "stream",
     "text": [
      "warning: LF will be replaced by CRLF in 27th sep2020.ipynb.\n",
      "The file will have its original line endings in your working directory\n"
     ]
    }
   ],
   "source": [
    "!git add \"27th sep2020.ipynb\""
   ]
  },
  {
   "cell_type": "code",
   "execution_count": 81,
   "metadata": {},
   "outputs": [
    {
     "name": "stdout",
     "output_type": "stream",
     "text": [
      "[master 3d9223f] 27th_practise\n",
      " 1 file changed, 34 insertions(+), 13 deletions(-)\n"
     ]
    }
   ],
   "source": [
    "!git commit -m \"27th_practise\""
   ]
  },
  {
   "cell_type": "code",
   "execution_count": 82,
   "metadata": {},
   "outputs": [
    {
     "name": "stderr",
     "output_type": "stream",
     "text": [
      "remote: This repository moved. Please use the new location:        \n",
      "remote:   https://github.com/pratik217/datastruct_python.git        \n",
      "To https://github.com/pratik217/reactpoc\n",
      "   bcb074e..3d9223f  master -> master\n"
     ]
    }
   ],
   "source": [
    "!git push origin master"
   ]
  },
  {
   "cell_type": "markdown",
   "metadata": {},
   "source": [
    "# Linear Search"
   ]
  },
  {
   "cell_type": "code",
   "execution_count": null,
   "metadata": {},
   "outputs": [],
   "source": [
    "import ast\n",
    "\n",
    "\n",
    "data_list=ast.literal_eval(input())\n",
    "key=ast.literal_eval(input())\n",
    "\n",
    "#find the index of the key in data_list here\n",
    "if key not in data_list:\n",
    "        print(-1)\n",
    "for _data in data_list:\n",
    "#     print(_data)\n",
    "    \n",
    "        \n",
    "    if key == _data:\n",
    "        print(data_list.index(_data))\n",
    "        break\n",
    "        "
   ]
  },
  {
   "cell_type": "code",
   "execution_count": 43,
   "metadata": {},
   "outputs": [
    {
     "name": "stdout",
     "output_type": "stream",
     "text": [
      "[1, 2, 4, 2, 3, 2, 3, 3, 6, 7]\n",
      "3\n",
      "4\n"
     ]
    }
   ],
   "source": [
    "import ast\n",
    "\n",
    "\n",
    "data_list=ast.literal_eval(input())\n",
    "key=ast.literal_eval(input())\n",
    "\n",
    "#find the index of the key in data_list here\n",
    "if key not in data_list:\n",
    "        print(-1)\n",
    "for _in in range(0,len(data_list)):\n",
    "#     print(_data)\n",
    "    \n",
    "        \n",
    "    if key == data_list[_in]:\n",
    "        print(_in)\n",
    "        break"
   ]
  },
  {
   "cell_type": "markdown",
   "metadata": {},
   "source": [
    "# Binary Search"
   ]
  },
  {
   "cell_type": "code",
   "execution_count": 38,
   "metadata": {},
   "outputs": [
    {
     "name": "stdout",
     "output_type": "stream",
     "text": [
      "[3, 5, 7, 9, 11, 13, 15, 17, 19, 21, 23, 25, 27]\n",
      "17\n",
      "7\n"
     ]
    }
   ],
   "source": [
    "import ast\n",
    "\n",
    "sorted_list=ast.literal_eval(input())\n",
    "key=ast.literal_eval(input())\n",
    "\n",
    "\n",
    "# print(min,max)\n",
    "\n",
    "# mid_i=sorted-list.inde()\n",
    "# print(mid)\n",
    "def _binary_search(sorted_list,key):\n",
    "    min=0\n",
    "    max =len(sorted_list)-1\n",
    "    while min<=max:\n",
    "        mid=(min+max)//2\n",
    "        if sorted_list[mid]==key:\n",
    "            return(mid)\n",
    "        \n",
    "    #         print(min,max)\n",
    "        elif sorted_list[mid]<key:\n",
    "        #     print(key)\n",
    "            min=mid+1\n",
    "        else:\n",
    "            max=mid-1\n",
    "    return(-1)\n",
    "print(_binary_search(sorted_list,key))"
   ]
  },
  {
   "cell_type": "markdown",
   "metadata": {},
   "source": [
    "# Rotated Search"
   ]
  },
  {
   "cell_type": "code",
   "execution_count": 43,
   "metadata": {},
   "outputs": [
    {
     "name": "stdout",
     "output_type": "stream",
     "text": [
      "[15, 16, 17, 18, 11, 12, 13, 14]\n",
      "14\n",
      "7\n"
     ]
    }
   ],
   "source": [
    "import ast\n",
    "\n",
    "data=ast.literal_eval(input())\n",
    "key=ast.literal_eval(input())\n",
    "\n",
    "\n",
    "# print(min,max)\n",
    "\n",
    "# mid_i=sorted-list.inde()\n",
    "# print(mid)\n",
    "def _rotated_search(data,key):\n",
    "    min=0\n",
    "    max =len(data)-1\n",
    "    while min<=max:\n",
    "        mid=(min+max)//2\n",
    "        if data[mid]==key:\n",
    "            return(mid)\n",
    "        \n",
    "    #         print(min,max)\n",
    "        elif data[min]<=data[mid]:\n",
    "            if data[min]<=key and key<data[mid]:\n",
    "        #     print(key)\n",
    "                \n",
    "                max=mid-1\n",
    "            else:\n",
    "                min=mid+1\n",
    "        elif data[min]>data[mid]:\n",
    "            if data[mid]<key and key<=data[max]:\n",
    "        #     print(key)\n",
    "                min=mid+1\n",
    "            else:\n",
    "                max=mid-1\n",
    "    return(-1)\n",
    "print(_rotated_search(data,key))"
   ]
  },
  {
   "cell_type": "markdown",
   "metadata": {},
   "source": [
    "# Square root"
   ]
  },
  {
   "cell_type": "code",
   "execution_count": 79,
   "metadata": {},
   "outputs": [
    {
     "name": "stdout",
     "output_type": "stream",
     "text": [
      "-3\n",
      "-1\n"
     ]
    }
   ],
   "source": [
    "import ast\n",
    "\n",
    "data= ast.literal_eval(input())\n",
    "def _get_sqr_rt(data):\n",
    "    if data>0:\n",
    "        return('%.4f'%data**(0.5))\n",
    "    else:\n",
    "        return -1\n",
    "print(_get_sqr_rt(data))"
   ]
  },
  {
   "cell_type": "markdown",
   "metadata": {},
   "source": [
    "# Tertiary Search"
   ]
  },
  {
   "cell_type": "code",
   "execution_count": 83,
   "metadata": {},
   "outputs": [
    {
     "name": "stdout",
     "output_type": "stream",
     "text": [
      "[3, 5, 7, 9, 11, 13, 15, 17, 19, 21, 23, 25, 27]\n",
      "17\n",
      "7\n"
     ]
    }
   ],
   "source": [
    "import ast\n",
    "\n",
    "sorted_list=ast.literal_eval(input())\n",
    "key=ast.literal_eval(input())\n",
    "\n",
    "\n",
    "# print(min,max)\n",
    "\n",
    "# mid_i=sorted-list.inde()\n",
    "# print(mid)\n",
    "def TernarySearch(my_list, key):\n",
    "    left = 0\n",
    "    right = len(my_list) - 1\n",
    "    while(left <= right):\n",
    "        one_third = left + (right-left)//3\n",
    "        two_third = left + 2*((right-left)//3)\n",
    "        if my_list[one_third] == key:\n",
    "            return one_third\n",
    "        elif my_list[two_third] == key:\n",
    "            return two_third\n",
    "        elif key < my_list[one_third]:\n",
    "            right = one_third - 1\n",
    "        elif key > my_list[two_third]:\n",
    "            left = two_third + 1\n",
    "        else:\n",
    "            left = one_third + 1\n",
    "            right = two_third - 1\n",
    "    return -1\n",
    "print(_binary_search(sorted_list,key))"
   ]
  },
  {
   "cell_type": "markdown",
   "metadata": {},
   "source": [
    "# Square root of negative numbers "
   ]
  },
  {
   "cell_type": "code",
   "execution_count": 86,
   "metadata": {
    "scrolled": true
   },
   "outputs": [
    {
     "name": "stdout",
     "output_type": "stream",
     "text": [
      "1\n",
      "-1.000000\n"
     ]
    }
   ],
   "source": [
    "n=int(input())\n",
    "def find_x(n):\n",
    "    start=0\n",
    "    end=1\n",
    "    while abs(start-end)>=10**-7:\n",
    "        mid=(start+end)/2\n",
    "        if (1/n**mid)>mid:\n",
    "            start=mid\n",
    "        else:\n",
    "            end=mid\n",
    "    return round(mid,6)\n",
    "print('-%6f'%find_x(n))\n",
    "    "
   ]
  },
  {
   "cell_type": "code",
   "execution_count": 95,
   "metadata": {},
   "outputs": [
    {
     "name": "stdout",
     "output_type": "stream",
     "text": [
      "[14, 13, 12, 10, 8, 7, 5, 4, 2, 16, 17, 18, 20]\n",
      "32\n",
      "-1\n"
     ]
    }
   ],
   "source": [
    "import ast\n",
    "data_list= ast.literal_eval(input())\n",
    "key=int(input())\n",
    " \n",
    "\n",
    "def valley_list(data_list, k):\n",
    "    l = 0\n",
    "    r =len(data_list)-1\n",
    "    \n",
    "    while l <=r:\n",
    "        mid = (l+r)//2\n",
    "        \n",
    "        if data_list[mid] ==  key:\n",
    "            return mid\n",
    "        elif data_list[l] >= data_list[mid]:\n",
    "            #print(\"1 =\",data_list[l],data_list[mid],data_list[r])\n",
    "            if k <= data_list[l] and k > data_list[mid]:\n",
    "                r= mid - 1\n",
    "            else:\n",
    "                l = mid + 1\n",
    "            #print(\"1.1 =\",data_list[l],data_list[mid],data_list[r])\n",
    "        elif data_list[l] <= data_list[mid]:\n",
    "            #print(\"2 =\",data_list[l],data_list[mid],data_list[r])\n",
    "            if k >= data_list[mid] and k <= data_list[r]:\n",
    "                l = mid + 1\n",
    "            else:\n",
    "                r = mid - 1\n",
    "#             print(\"2.1 =\",data_list[l],data_list[mid],data_list[r])\n",
    "        \n",
    "    return -1\n",
    "            \n",
    "print(valley_list(data_list,key))"
   ]
  },
  {
   "cell_type": "code",
   "execution_count": null,
   "metadata": {},
   "outputs": [],
   "source": []
  }
 ],
 "metadata": {
  "kernelspec": {
   "display_name": "Python 3",
   "language": "python",
   "name": "python3"
  },
  "language_info": {
   "codemirror_mode": {
    "name": "ipython",
    "version": 3
   },
   "file_extension": ".py",
   "mimetype": "text/x-python",
   "name": "python",
   "nbconvert_exporter": "python",
   "pygments_lexer": "ipython3",
   "version": "3.8.3"
  }
 },
 "nbformat": 4,
 "nbformat_minor": 4
}
