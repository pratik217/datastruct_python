{
 "cells": [
  {
   "cell_type": "markdown",
   "metadata": {},
   "source": [
    "Git initialization\n"
   ]
  },
  {
   "cell_type": "code",
   "execution_count": 8,
   "metadata": {},
   "outputs": [
    {
     "name": "stderr",
     "output_type": "stream",
     "text": [
      "Cloning into 'reactpoc'...\n"
     ]
    }
   ],
   "source": [
    "!git clone https://github.com/pratik217/reactpoc\n"
   ]
  },
  {
   "cell_type": "code",
   "execution_count": 49,
   "metadata": {},
   "outputs": [
    {
     "name": "stderr",
     "output_type": "stream",
     "text": [
      "warning: LF will be replaced by CRLF in 27th sep2020.ipynb.\n",
      "The file will have its original line endings in your working directory\n"
     ]
    }
   ],
   "source": [
    "!git add \"27th sep2020.ipynb\""
   ]
  },
  {
   "cell_type": "code",
   "execution_count": 50,
   "metadata": {},
   "outputs": [
    {
     "name": "stdout",
     "output_type": "stream",
     "text": [
      "[master bcb074e] 27th_practise\n",
      " 1 file changed, 35 insertions(+), 7 deletions(-)\n"
     ]
    }
   ],
   "source": [
    "!git commit -m \"27th_practise\""
   ]
  },
  {
   "cell_type": "code",
   "execution_count": 51,
   "metadata": {},
   "outputs": [
    {
     "name": "stderr",
     "output_type": "stream",
     "text": [
      "remote: This repository moved. Please use the new location:        \n",
      "remote:   https://github.com/pratik217/datastruct_python.git        \n",
      "To https://github.com/pratik217/reactpoc\n",
      "   99a9b5a..bcb074e  master -> master\n"
     ]
    }
   ],
   "source": [
    "!git push origin master"
   ]
  },
  {
   "cell_type": "markdown",
   "metadata": {},
   "source": [
    "# Linear Search"
   ]
  },
  {
   "cell_type": "code",
   "execution_count": null,
   "metadata": {},
   "outputs": [],
   "source": [
    "import ast\n",
    "\n",
    "\n",
    "data_list=ast.literal_eval(input())\n",
    "key=ast.literal_eval(input())\n",
    "\n",
    "#find the index of the key in data_list here\n",
    "if key not in data_list:\n",
    "        print(-1)\n",
    "for _data in data_list:\n",
    "#     print(_data)\n",
    "    \n",
    "        \n",
    "    if key == _data:\n",
    "        print(data_list.index(_data))\n",
    "        break\n",
    "        "
   ]
  },
  {
   "cell_type": "code",
   "execution_count": 43,
   "metadata": {},
   "outputs": [
    {
     "name": "stdout",
     "output_type": "stream",
     "text": [
      "[1, 2, 4, 2, 3, 2, 3, 3, 6, 7]\n",
      "3\n",
      "4\n"
     ]
    }
   ],
   "source": [
    "import ast\n",
    "\n",
    "\n",
    "data_list=ast.literal_eval(input())\n",
    "key=ast.literal_eval(input())\n",
    "\n",
    "#find the index of the key in data_list here\n",
    "if key not in data_list:\n",
    "        print(-1)\n",
    "for _in in range(0,len(data_list)):\n",
    "#     print(_data)\n",
    "    \n",
    "        \n",
    "    if key == data_list[_in]:\n",
    "        print(_in)\n",
    "        break"
   ]
  },
  {
   "cell_type": "markdown",
   "metadata": {},
   "source": [
    "# Binary Search"
   ]
  },
  {
   "cell_type": "code",
   "execution_count": 38,
   "metadata": {},
   "outputs": [
    {
     "name": "stdout",
     "output_type": "stream",
     "text": [
      "[3, 5, 7, 9, 11, 13, 15, 17, 19, 21, 23, 25, 27]\n",
      "17\n",
      "7\n"
     ]
    }
   ],
   "source": [
    "import ast\n",
    "\n",
    "sorted_list=ast.literal_eval(input())\n",
    "key=ast.literal_eval(input())\n",
    "\n",
    "\n",
    "# print(min,max)\n",
    "\n",
    "# mid_i=sorted-list.inde()\n",
    "# print(mid)\n",
    "def _binary_search(sorted_list,key):\n",
    "    min=0\n",
    "    max =len(sorted_list)-1\n",
    "    while min<=max:\n",
    "        mid=(min+max)//2\n",
    "        if sorted_list[mid]==key:\n",
    "            return(mid)\n",
    "        \n",
    "    #         print(min,max)\n",
    "        elif sorted_list[mid]<key:\n",
    "        #     print(key)\n",
    "            min=mid+1\n",
    "        else:\n",
    "            max=mid-1\n",
    "    return(-1)\n",
    "print(_binary_search(sorted_list,key))"
   ]
  },
  {
   "cell_type": "markdown",
   "metadata": {},
   "source": [
    "# Rotated Search"
   ]
  },
  {
   "cell_type": "code",
   "execution_count": 43,
   "metadata": {},
   "outputs": [
    {
     "name": "stdout",
     "output_type": "stream",
     "text": [
      "[15, 16, 17, 18, 11, 12, 13, 14]\n",
      "14\n",
      "7\n"
     ]
    }
   ],
   "source": [
    "import ast\n",
    "\n",
    "data=ast.literal_eval(input())\n",
    "key=ast.literal_eval(input())\n",
    "\n",
    "\n",
    "# print(min,max)\n",
    "\n",
    "# mid_i=sorted-list.inde()\n",
    "# print(mid)\n",
    "def _rotated_search(data,key):\n",
    "    min=0\n",
    "    max =len(data)-1\n",
    "    while min<=max:\n",
    "        mid=(min+max)//2\n",
    "        if data[mid]==key:\n",
    "            return(mid)\n",
    "        \n",
    "    #         print(min,max)\n",
    "        elif data[min]<=data[mid]:\n",
    "            if data[min]<=key and key<data[mid]:\n",
    "        #     print(key)\n",
    "                \n",
    "                max=mid-1\n",
    "            else:\n",
    "                min=mid+1\n",
    "        elif data[min]>data[mid]:\n",
    "            if data[mid]<key and key<=data[max]:\n",
    "        #     print(key)\n",
    "                min=mid+1\n",
    "            else:\n",
    "                max=mid-1\n",
    "    return(-1)\n",
    "print(_rotated_search(data,key))"
   ]
  },
  {
   "cell_type": "markdown",
   "metadata": {},
   "source": [
    "# Square root"
   ]
  },
  {
   "cell_type": "code",
   "execution_count": 79,
   "metadata": {},
   "outputs": [
    {
     "name": "stdout",
     "output_type": "stream",
     "text": [
      "-3\n",
      "-1\n"
     ]
    }
   ],
   "source": [
    "import ast\n",
    "\n",
    "data= ast.literal_eval(input())\n",
    "def _get_sqr_rt(data):\n",
    "    if data>0:\n",
    "        return('%.4f'%data**(0.5))\n",
    "    else:\n",
    "        return -1\n",
    "print(_get_sqr_rt(data))"
   ]
  }
 ],
 "metadata": {
  "kernelspec": {
   "display_name": "Python 3",
   "language": "python",
   "name": "python3"
  },
  "language_info": {
   "codemirror_mode": {
    "name": "ipython",
    "version": 3
   },
   "file_extension": ".py",
   "mimetype": "text/x-python",
   "name": "python",
   "nbconvert_exporter": "python",
   "pygments_lexer": "ipython3",
   "version": "3.8.3"
  }
 },
 "nbformat": 4,
 "nbformat_minor": 4
}
