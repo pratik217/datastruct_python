{
 "cells": [
  {
   "cell_type": "code",
   "execution_count": 6,
   "metadata": {},
   "outputs": [
    {
     "name": "stdout",
     "output_type": "stream",
     "text": [
      "On branch master\n",
      "\n",
      "No commits yet\n",
      "\n",
      "Untracked files:\n",
      "  (use \"git add <file>...\" to include in what will be committed)\n",
      "\n",
      "\t.PyCharm2018.3/\n",
      "\t.PyCharmCE2019.1/\n",
      "\t.PyCharmCE2019.3/\n",
      "\t.angular-config.json\n",
      "\t.atom/\n",
      "\t.aws/\n",
      "\t.config/\n",
      "\t.ipynb_checkpoints/\n",
      "\t.ipython/\n",
      "\t.jupyter/\n",
      "\t.matplotlib/\n",
      "\t.node_repl_history\n",
      "\t.scala_history\n",
      "\t.spyder-py3/\n",
      "\t.vscode/\n",
      "\t27th sep2020.ipynb\n",
      "\t3D Objects/\n",
      "\tAppData/\n",
      "\tBullseyeCoverageError.txt\n",
      "\tContacts/\n",
      "\tDesktop/\n",
      "\tDocuments/\n",
      "\tDownloads/\n",
      "\tFavorites/\n",
      "\tGithub/\n",
      "\tIntel/\n",
      "\tIntelGraphicsProfiles/\n",
      "\tLinks/\n",
      "\tMicrosoftEdgeBackups/\n",
      "\tMusic/\n",
      "\tNTUSER.DAT\n",
      "\tNTUSER.DAT{8ebe95f6-3dcb-11e8-a9d9-7cfe90913f50}.TxR.blf"
     ]
    },
    {
     "name": "stderr",
     "output_type": "stream",
     "text": [
      "warning: could not open directory 'Application Data/': Permission denied\n",
      "warning: could not open directory 'Cookies/': Permission denied\n",
      "warning: could not open directory 'Local Settings/': Permission denied\n",
      "warning: could not open directory 'My Documents/': Permission denied\n",
      "warning: could not open directory 'NetHood/': Permission denied\n",
      "warning: could not open directory 'PrintHood/': Permission denied\n",
      "warning: could not open directory 'Recent/': Permission denied\n",
      "warning: could not open directory 'SendTo/': Permission denied\n",
      "warning: could not open directory 'Start Menu/': Permission denied\n",
      "warning: could not open directory 'Templates/': Permission denied\n"
     ]
    },
    {
     "name": "stdout",
     "output_type": "stream",
     "text": [
      "\n",
      "\tNTUSER.DAT{8ebe95f7-3dcb-11e8-a9d9-7cfe90913f50}.TM.blf\n",
      "\tNTUSER.DAT{8ebe95f7-3dcb-11e8-a9d9-7cfe90913f50}.TMContainer00000000000000000001.regtrans-ms\n",
      "\tNTUSER.DAT{8ebe95f7-3dcb-11e8-a9d9-7cfe90913f50}.TMContainer00000000000000000002.regtrans-ms\n",
      "\tOneDrive/\n",
      "\tPictures/\n",
      "\tPycharmProjects/\n",
      "\tSaved Games/\n",
      "\tSearches/\n",
      "\tUntitled.ipynb\n",
      "\tVideos/\n",
      "\tcodecommit/\n",
      "\tjava_error_in_pycharm_11024.log\n",
      "\tjava_error_in_pycharm_2400.log\n",
      "\tjava_error_in_pycharm_5028.log\n",
      "\tjava_error_in_pycharm_5100.log\n",
      "\tjava_error_in_pycharm_5872.log\n",
      "\tjava_error_in_pycharm_5972.log\n",
      "\tjava_error_in_pycharm_7116.log\n",
      "\tnew 1\n",
      "\tntuser.dat.LOG1\n",
      "\tntuser.dat.LOG2\n",
      "\tntuser.ini\n",
      "\topera autoupdate/\n",
      "\n",
      "nothing added to commit but untracked files present (use \"git add\" to track)\n"
     ]
    }
   ],
   "source": [
    "!git status\n"
   ]
  },
  {
   "cell_type": "code",
   "execution_count": 7,
   "metadata": {},
   "outputs": [
    {
     "name": "stderr",
     "output_type": "stream",
     "text": [
      "Cloning into 'pratik217'...\n",
      "remote: Not Found\n",
      "fatal: repository 'https://github.com/pratik217/' not found\n"
     ]
    }
   ],
   "source": [
    "!git clone https://github.com/pratik217/reactpoc\n"
   ]
  }
 ],
 "metadata": {
  "kernelspec": {
   "display_name": "Python 3",
   "language": "python",
   "name": "python3"
  },
  "language_info": {
   "codemirror_mode": {
    "name": "ipython",
    "version": 3
   },
   "file_extension": ".py",
   "mimetype": "text/x-python",
   "name": "python",
   "nbconvert_exporter": "python",
   "pygments_lexer": "ipython3",
   "version": "3.8.3"
  }
 },
 "nbformat": 4,
 "nbformat_minor": 4
}
